{
 "cells": [
  {
   "cell_type": "code",
   "execution_count": 1,
   "metadata": {
    "collapsed": true
   },
   "outputs": [],
   "source": [
    "import pandas as pd\n",
    "import numpy as np"
   ]
  },
  {
   "cell_type": "markdown",
   "metadata": {},
   "source": [
    "# How to find highly correlated columns"
   ]
  },
  {
   "cell_type": "code",
   "execution_count": 4,
   "metadata": {
    "collapsed": false
   },
   "outputs": [],
   "source": [
    "df = pd.DataFrame(np.random.random((5, 5)))"
   ]
  },
  {
   "cell_type": "code",
   "execution_count": 5,
   "metadata": {
    "collapsed": false
   },
   "outputs": [
    {
     "data": {
      "text/html": [
       "<div style=\"max-height:1000px;max-width:1500px;overflow:auto;\">\n",
       "<table border=\"1\" class=\"dataframe\">\n",
       "  <thead>\n",
       "    <tr style=\"text-align: right;\">\n",
       "      <th></th>\n",
       "      <th>0</th>\n",
       "      <th>1</th>\n",
       "      <th>2</th>\n",
       "      <th>3</th>\n",
       "      <th>4</th>\n",
       "    </tr>\n",
       "  </thead>\n",
       "  <tbody>\n",
       "    <tr>\n",
       "      <th>0</th>\n",
       "      <td>0.098214</td>\n",
       "      <td>0.944112</td>\n",
       "      <td>0.213740</td>\n",
       "      <td>0.046533</td>\n",
       "      <td>0.189840</td>\n",
       "    </tr>\n",
       "    <tr>\n",
       "      <th>1</th>\n",
       "      <td>0.755694</td>\n",
       "      <td>0.193035</td>\n",
       "      <td>0.194426</td>\n",
       "      <td>0.142954</td>\n",
       "      <td>0.191947</td>\n",
       "    </tr>\n",
       "    <tr>\n",
       "      <th>2</th>\n",
       "      <td>0.698217</td>\n",
       "      <td>0.677693</td>\n",
       "      <td>0.372693</td>\n",
       "      <td>0.863811</td>\n",
       "      <td>0.410988</td>\n",
       "    </tr>\n",
       "    <tr>\n",
       "      <th>3</th>\n",
       "      <td>0.950882</td>\n",
       "      <td>0.220831</td>\n",
       "      <td>0.459755</td>\n",
       "      <td>0.417284</td>\n",
       "      <td>0.291601</td>\n",
       "    </tr>\n",
       "    <tr>\n",
       "      <th>4</th>\n",
       "      <td>0.924205</td>\n",
       "      <td>0.905573</td>\n",
       "      <td>0.282161</td>\n",
       "      <td>0.306626</td>\n",
       "      <td>0.513186</td>\n",
       "    </tr>\n",
       "  </tbody>\n",
       "</table>\n",
       "</div>"
      ],
      "text/plain": [
       "          0         1         2         3         4\n",
       "0  0.098214  0.944112  0.213740  0.046533  0.189840\n",
       "1  0.755694  0.193035  0.194426  0.142954  0.191947\n",
       "2  0.698217  0.677693  0.372693  0.863811  0.410988\n",
       "3  0.950882  0.220831  0.459755  0.417284  0.291601\n",
       "4  0.924205  0.905573  0.282161  0.306626  0.513186"
      ]
     },
     "execution_count": 5,
     "metadata": {},
     "output_type": "execute_result"
    }
   ],
   "source": [
    "df"
   ]
  },
  {
   "cell_type": "code",
   "execution_count": 6,
   "metadata": {
    "collapsed": false
   },
   "outputs": [
    {
     "data": {
      "text/html": [
       "<div style=\"max-height:1000px;max-width:1500px;overflow:auto;\">\n",
       "<table border=\"1\" class=\"dataframe\">\n",
       "  <thead>\n",
       "    <tr style=\"text-align: right;\">\n",
       "      <th></th>\n",
       "      <th>0</th>\n",
       "      <th>1</th>\n",
       "      <th>2</th>\n",
       "      <th>3</th>\n",
       "      <th>4</th>\n",
       "    </tr>\n",
       "  </thead>\n",
       "  <tbody>\n",
       "    <tr>\n",
       "      <th>0</th>\n",
       "      <td>1.000000</td>\n",
       "      <td>-0.513316</td>\n",
       "      <td>0.534875</td>\n",
       "      <td>0.404077</td>\n",
       "      <td>0.549355</td>\n",
       "    </tr>\n",
       "    <tr>\n",
       "      <th>1</th>\n",
       "      <td>-0.513316</td>\n",
       "      <td>1.000000</td>\n",
       "      <td>-0.289754</td>\n",
       "      <td>-0.040469</td>\n",
       "      <td>0.410742</td>\n",
       "    </tr>\n",
       "    <tr>\n",
       "      <th>2</th>\n",
       "      <td>0.534875</td>\n",
       "      <td>-0.289754</td>\n",
       "      <td>1.000000</td>\n",
       "      <td>0.682637</td>\n",
       "      <td>0.371867</td>\n",
       "    </tr>\n",
       "    <tr>\n",
       "      <th>3</th>\n",
       "      <td>0.404077</td>\n",
       "      <td>-0.040469</td>\n",
       "      <td>0.682637</td>\n",
       "      <td>1.000000</td>\n",
       "      <td>0.570124</td>\n",
       "    </tr>\n",
       "    <tr>\n",
       "      <th>4</th>\n",
       "      <td>0.549355</td>\n",
       "      <td>0.410742</td>\n",
       "      <td>0.371867</td>\n",
       "      <td>0.570124</td>\n",
       "      <td>1.000000</td>\n",
       "    </tr>\n",
       "  </tbody>\n",
       "</table>\n",
       "</div>"
      ],
      "text/plain": [
       "          0         1         2         3         4\n",
       "0  1.000000 -0.513316  0.534875  0.404077  0.549355\n",
       "1 -0.513316  1.000000 -0.289754 -0.040469  0.410742\n",
       "2  0.534875 -0.289754  1.000000  0.682637  0.371867\n",
       "3  0.404077 -0.040469  0.682637  1.000000  0.570124\n",
       "4  0.549355  0.410742  0.371867  0.570124  1.000000"
      ]
     },
     "execution_count": 6,
     "metadata": {},
     "output_type": "execute_result"
    }
   ],
   "source": [
    "df.corr()"
   ]
  },
  {
   "cell_type": "code",
   "execution_count": 10,
   "metadata": {
    "collapsed": false
   },
   "outputs": [],
   "source": [
    "corr_series = df.corr().stack()"
   ]
  },
  {
   "cell_type": "code",
   "execution_count": 12,
   "metadata": {
    "collapsed": false
   },
   "outputs": [],
   "source": [
    "import math"
   ]
  },
  {
   "cell_type": "code",
   "execution_count": 14,
   "metadata": {
    "collapsed": false
   },
   "outputs": [
    {
     "data": {
      "text/plain": [
       "0  1   -0.513316\n",
       "   2    0.534875\n",
       "   4    0.549355\n",
       "1  0   -0.513316\n",
       "2  0    0.534875\n",
       "   3    0.682637\n",
       "3  2    0.682637\n",
       "   4    0.570124\n",
       "4  0    0.549355\n",
       "   3    0.570124\n",
       "dtype: float64"
      ]
     },
     "execution_count": 14,
     "metadata": {},
     "output_type": "execute_result"
    }
   ],
   "source": [
    "corr_series[(corr_series.map(math.fabs) >= 0.5) & (corr_series != 1.0)]"
   ]
  },
  {
   "cell_type": "code",
   "execution_count": null,
   "metadata": {
    "collapsed": true
   },
   "outputs": [],
   "source": []
  }
 ],
 "metadata": {
  "kernelspec": {
   "display_name": "Python 3",
   "language": "python",
   "name": "python3"
  },
  "language_info": {
   "codemirror_mode": {
    "name": "ipython",
    "version": 3
   },
   "file_extension": ".py",
   "mimetype": "text/x-python",
   "name": "python",
   "nbconvert_exporter": "python",
   "pygments_lexer": "ipython3",
   "version": "3.4.3"
  }
 },
 "nbformat": 4,
 "nbformat_minor": 0
}
