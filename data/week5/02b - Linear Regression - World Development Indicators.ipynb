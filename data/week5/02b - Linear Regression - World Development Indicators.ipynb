{
 "cells": [
  {
   "cell_type": "code",
   "execution_count": 1,
   "metadata": {
    "collapsed": true
   },
   "outputs": [],
   "source": [
    "import pandas as pd\n",
    "import numpy as np\n",
    "import matplotlib.pyplot as plt"
   ]
  },
  {
   "cell_type": "code",
   "execution_count": 2,
   "metadata": {
    "collapsed": true
   },
   "outputs": [],
   "source": [
    "%matplotlib inline"
   ]
  },
  {
   "cell_type": "code",
   "execution_count": 3,
   "metadata": {
    "collapsed": true
   },
   "outputs": [],
   "source": [
    "country_data = pd.read_csv(\"country_data/country_data.txt\", sep=\"\\t\") \\\n",
    "                .rename(columns={'\\ufeffCountry Name': \"Country Name\"}) \\\n",
    "                .dropna(thresh=2)\n",
    "        \n",
    "# Drop all rows not associated with a country.\n",
    "country_data = country_data.loc[1140:,:]"
   ]
  },
  {
   "cell_type": "code",
   "execution_count": 4,
   "metadata": {
    "collapsed": false
   },
   "outputs": [
    {
     "name": "stdout",
     "output_type": "stream",
     "text": [
      "<class 'pandas.core.frame.DataFrame'>\n",
      "Int64Index: 12840 entries, 1140 to 13979\n",
      "Data columns (total 8 columns):\n",
      "Country Name         12840 non-null object\n",
      "Country Code         12840 non-null object\n",
      "Series Name          12840 non-null object\n",
      "Series Code          12840 non-null object\n",
      "Scale (Precision)    12840 non-null object\n",
      "1990 [YR1990]        8905 non-null float64\n",
      "2000 [YR2000]        10243 non-null float64\n",
      "2013 [YR2013]        10110 non-null float64\n",
      "dtypes: float64(3), object(5)\n",
      "memory usage: 902.8+ KB\n"
     ]
    }
   ],
   "source": [
    "country_data.info()"
   ]
  },
  {
   "cell_type": "code",
   "execution_count": 5,
   "metadata": {
    "collapsed": false
   },
   "outputs": [
    {
     "data": {
      "text/html": [
       "<div style=\"max-height:1000px;max-width:1500px;overflow:auto;\">\n",
       "<table border=\"1\" class=\"dataframe\">\n",
       "  <thead>\n",
       "    <tr style=\"text-align: right;\">\n",
       "      <th></th>\n",
       "      <th>Country Name</th>\n",
       "      <th>Country Code</th>\n",
       "      <th>Series Name</th>\n",
       "      <th>Series Code</th>\n",
       "      <th>Scale (Precision)</th>\n",
       "      <th>1990 [YR1990]</th>\n",
       "      <th>2000 [YR2000]</th>\n",
       "      <th>2013 [YR2013]</th>\n",
       "    </tr>\n",
       "  </thead>\n",
       "  <tbody>\n",
       "    <tr>\n",
       "      <th>1140</th>\n",
       "      <td>Afghanistan</td>\n",
       "      <td>AFG</td>\n",
       "      <td>Population, total</td>\n",
       "      <td>SP.POP.TOTL</td>\n",
       "      <td>Millions (0.00)</td>\n",
       "      <td>11.73</td>\n",
       "      <td>20.6</td>\n",
       "      <td>30.55</td>\n",
       "    </tr>\n",
       "    <tr>\n",
       "      <th>1141</th>\n",
       "      <td>Afghanistan</td>\n",
       "      <td>AFG</td>\n",
       "      <td>Population growth (annual %)</td>\n",
       "      <td>SP.POP.GROW</td>\n",
       "      <td>Unit (0.0)</td>\n",
       "      <td>4.50</td>\n",
       "      <td>3.0</td>\n",
       "      <td>2.40</td>\n",
       "    </tr>\n",
       "    <tr>\n",
       "      <th>1142</th>\n",
       "      <td>Afghanistan</td>\n",
       "      <td>AFG</td>\n",
       "      <td>Surface area (sq. km)</td>\n",
       "      <td>AG.SRF.TOTL.K2</td>\n",
       "      <td>Thousands (0.0)</td>\n",
       "      <td>652.90</td>\n",
       "      <td>652.9</td>\n",
       "      <td>652.90</td>\n",
       "    </tr>\n",
       "    <tr>\n",
       "      <th>1143</th>\n",
       "      <td>Afghanistan</td>\n",
       "      <td>AFG</td>\n",
       "      <td>Population density (people per sq. km of land ...</td>\n",
       "      <td>EN.POP.DNST</td>\n",
       "      <td>Unit (0.0)</td>\n",
       "      <td>18.00</td>\n",
       "      <td>31.5</td>\n",
       "      <td>46.80</td>\n",
       "    </tr>\n",
       "    <tr>\n",
       "      <th>1144</th>\n",
       "      <td>Afghanistan</td>\n",
       "      <td>AFG</td>\n",
       "      <td>Poverty headcount ratio at national poverty li...</td>\n",
       "      <td>SI.POV.NAHC</td>\n",
       "      <td>Unit (0.0)</td>\n",
       "      <td>NaN</td>\n",
       "      <td>NaN</td>\n",
       "      <td>35.80</td>\n",
       "    </tr>\n",
       "  </tbody>\n",
       "</table>\n",
       "</div>"
      ],
      "text/plain": [
       "     Country Name Country Code  \\\n",
       "1140  Afghanistan          AFG   \n",
       "1141  Afghanistan          AFG   \n",
       "1142  Afghanistan          AFG   \n",
       "1143  Afghanistan          AFG   \n",
       "1144  Afghanistan          AFG   \n",
       "\n",
       "                                            Series Name     Series Code  \\\n",
       "1140                                  Population, total     SP.POP.TOTL   \n",
       "1141                       Population growth (annual %)     SP.POP.GROW   \n",
       "1142                              Surface area (sq. km)  AG.SRF.TOTL.K2   \n",
       "1143  Population density (people per sq. km of land ...     EN.POP.DNST   \n",
       "1144  Poverty headcount ratio at national poverty li...     SI.POV.NAHC   \n",
       "\n",
       "     Scale (Precision)  1990 [YR1990]  2000 [YR2000]  2013 [YR2013]  \n",
       "1140   Millions (0.00)          11.73           20.6          30.55  \n",
       "1141        Unit (0.0)           4.50            3.0           2.40  \n",
       "1142   Thousands (0.0)         652.90          652.9         652.90  \n",
       "1143        Unit (0.0)          18.00           31.5          46.80  \n",
       "1144        Unit (0.0)            NaN            NaN          35.80  "
      ]
     },
     "execution_count": 5,
     "metadata": {},
     "output_type": "execute_result"
    }
   ],
   "source": [
    "country_data.head()"
   ]
  },
  {
   "cell_type": "code",
   "execution_count": 6,
   "metadata": {
    "collapsed": true
   },
   "outputs": [],
   "source": [
    "indicators = country_data.pivot_table(index=\"Country Name\", \n",
    "                                      columns=\"Series Name\", \n",
    "                                      values=\"2013 [YR2013]\")"
   ]
  },
  {
   "cell_type": "code",
   "execution_count": 7,
   "metadata": {
    "collapsed": false
   },
   "outputs": [
    {
     "data": {
      "text/plain": [
       "Index(['Adolescent fertility rate (births per 1,000 women ages 15-19)',\n",
       "       'Agriculture, value added (% of GDP)',\n",
       "       'Annual freshwater withdrawals, total (% of internal resources)',\n",
       "       'Births attended by skilled health staff (% of total)',\n",
       "       'CO2 emissions (metric tons per capita)',\n",
       "       'Cash surplus/deficit (% of GDP)',\n",
       "       'Contraceptive prevalence (% of women ages 15-49)',\n",
       "       'Domestic credit provided by financial sector (% of GDP)',\n",
       "       'Electric power consumption (kWh per capita)',\n",
       "       'Energy use (kg of oil equivalent per capita)',\n",
       "       'Exports of goods and services (% of GDP)',\n",
       "       'External debt stocks, total (DOD, current US$)',\n",
       "       'Fertility rate, total (births per woman)',\n",
       "       'Foreign direct investment, net inflows (BoP, current US$)',\n",
       "       'Forest area (sq. km)', 'GDP (current US$)', 'GDP growth (annual %)',\n",
       "       'GNI per capita, Atlas method (current US$)',\n",
       "       'GNI per capita, PPP (current international $)',\n",
       "       'GNI, Atlas method (current US$)', 'GNI, PPP (current international $)',\n",
       "       'Gross capital formation (% of GDP)',\n",
       "       'High-technology exports (% of manufactured exports)',\n",
       "       'Immunization, measles (% of children ages 12-23 months)',\n",
       "       'Imports of goods and services (% of GDP)',\n",
       "       'Improved sanitation facilities (% of population with access)',\n",
       "       'Improved water source (% of population with access)',\n",
       "       'Income share held by lowest 20%', 'Industry, value added (% of GDP)',\n",
       "       'Inflation, GDP deflator (annual %)', 'Internet users (per 100 people)',\n",
       "       'Life expectancy at birth, total (years)',\n",
       "       'Malnutrition prevalence, weight for age (% of children under 5)',\n",
       "       'Merchandise trade (% of GDP)', 'Military expenditure (% of GDP)',\n",
       "       'Mobile cellular subscriptions (per 100 people)',\n",
       "       'Mortality rate, under-5 (per 1,000 live births)',\n",
       "       'Net barter terms of trade index (2000 = 100)', 'Net migration',\n",
       "       'Net official development assistance and official aid received (current US$)',\n",
       "       'Overall level of statistical capacity (scale 0 - 100)',\n",
       "       'Personal remittances, received (current US$)',\n",
       "       'Population density (people per sq. km of land area)',\n",
       "       'Population growth (annual %)', 'Population, total',\n",
       "       'Poverty headcount ratio at $1.25 a day (PPP) (% of population)',\n",
       "       'Poverty headcount ratio at national poverty lines (% of population)',\n",
       "       'Prevalence of HIV, total (% of population ages 15-49)',\n",
       "       'Primary completion rate, total (% of relevant age group)',\n",
       "       'Ratio of girls to boys in primary and secondary education (%)',\n",
       "       'Revenue, excluding grants (% of GDP)',\n",
       "       'School enrollment, primary (% gross)',\n",
       "       'School enrollment, secondary (% gross)',\n",
       "       'Services, etc., value added (% of GDP)', 'Surface area (sq. km)',\n",
       "       'Tax revenue (% of GDP)',\n",
       "       'Terrestrial and marine protected areas (% of total territorial area)',\n",
       "       'Time required to start a business (days)',\n",
       "       'Total debt service (% of exports of goods, services and primary income)',\n",
       "       'Urban population growth (annual %)'],\n",
       "      dtype='object', name='Series Name')"
      ]
     },
     "execution_count": 7,
     "metadata": {},
     "output_type": "execute_result"
    }
   ],
   "source": [
    "indicators.columns"
   ]
  },
  {
   "cell_type": "code",
   "execution_count": 8,
   "metadata": {
    "collapsed": false
   },
   "outputs": [
    {
     "data": {
      "text/html": [
       "<div style=\"max-height:1000px;max-width:1500px;overflow:auto;\">\n",
       "<table border=\"1\" class=\"dataframe\">\n",
       "  <thead>\n",
       "    <tr style=\"text-align: right;\">\n",
       "      <th>Series Name</th>\n",
       "      <th>School enrollment, secondary (% gross)</th>\n",
       "      <th>Life expectancy at birth, total (years)</th>\n",
       "    </tr>\n",
       "    <tr>\n",
       "      <th>Country Name</th>\n",
       "      <th></th>\n",
       "      <th></th>\n",
       "    </tr>\n",
       "  </thead>\n",
       "  <tbody>\n",
       "    <tr>\n",
       "      <th>Afghanistan</th>\n",
       "      <td>54</td>\n",
       "      <td>61</td>\n",
       "    </tr>\n",
       "    <tr>\n",
       "      <th>Albania</th>\n",
       "      <td>NaN</td>\n",
       "      <td>78</td>\n",
       "    </tr>\n",
       "    <tr>\n",
       "      <th>Algeria</th>\n",
       "      <td>98</td>\n",
       "      <td>71</td>\n",
       "    </tr>\n",
       "    <tr>\n",
       "      <th>American Samoa</th>\n",
       "      <td>NaN</td>\n",
       "      <td>NaN</td>\n",
       "    </tr>\n",
       "    <tr>\n",
       "      <th>Andorra</th>\n",
       "      <td>NaN</td>\n",
       "      <td>NaN</td>\n",
       "    </tr>\n",
       "  </tbody>\n",
       "</table>\n",
       "</div>"
      ],
      "text/plain": [
       "Series Name     School enrollment, secondary (% gross)  \\\n",
       "Country Name                                             \n",
       "Afghanistan                                         54   \n",
       "Albania                                            NaN   \n",
       "Algeria                                             98   \n",
       "American Samoa                                     NaN   \n",
       "Andorra                                            NaN   \n",
       "\n",
       "Series Name     Life expectancy at birth, total (years)  \n",
       "Country Name                                             \n",
       "Afghanistan                                          61  \n",
       "Albania                                              78  \n",
       "Algeria                                              71  \n",
       "American Samoa                                      NaN  \n",
       "Andorra                                             NaN  "
      ]
     },
     "execution_count": 8,
     "metadata": {},
     "output_type": "execute_result"
    }
   ],
   "source": [
    "indicators[['School enrollment, secondary (% gross)',\n",
    "            'Life expectancy at birth, total (years)']].head()"
   ]
  },
  {
   "cell_type": "code",
   "execution_count": 9,
   "metadata": {
    "collapsed": false
   },
   "outputs": [
    {
     "data": {
      "image/png": "[encoded data removed]",
      "text/plain": [
       "<matplotlib.figure.Figure at 0x10e5841d0>"
      ]
     },
     "metadata": {},
     "output_type": "display_data"
    }
   ],
   "source": [
    "plt.scatter(indicators['School enrollment, secondary (% gross)'], \n",
    "            indicators['Life expectancy at birth, total (years)'])\n",
    "plt.show()"
   ]
  },
  {
   "cell_type": "code",
   "execution_count": 10,
   "metadata": {
    "collapsed": false
   },
   "outputs": [
    {
     "data": {
      "text/plain": [
       "0.80573580248216525"
      ]
     },
     "execution_count": 10,
     "metadata": {},
     "output_type": "execute_result"
    }
   ],
   "source": [
    "indicators['School enrollment, secondary (% gross)'].corr(indicators['Life expectancy at birth, total (years)'])"
   ]
  },
  {
   "cell_type": "code",
   "execution_count": 11,
   "metadata": {
    "collapsed": true
   },
   "outputs": [],
   "source": [
    "from sklearn import linear_model"
   ]
  },
  {
   "cell_type": "code",
   "execution_count": 12,
   "metadata": {
    "collapsed": false
   },
   "outputs": [],
   "source": [
    "df = indicators.loc[:, ['School enrollment, secondary (% gross)', \n",
    "                        'Life expectancy at birth, total (years)']]\n",
    "df.dropna(inplace=True)\n",
    "input_data = df[['School enrollment, secondary (% gross)']]\n",
    "life_expectancy = df['Life expectancy at birth, total (years)']"
   ]
  },
  {
   "cell_type": "code",
   "execution_count": 13,
   "metadata": {
    "collapsed": false
   },
   "outputs": [
    {
     "name": "stdout",
     "output_type": "stream",
     "text": [
      "Coefficients: \n",
      " [ 0.27856758]\n",
      "0.649210183402\n"
     ]
    }
   ],
   "source": [
    "regr1 = linear_model.LinearRegression()\n",
    "regr1.fit(input_data, life_expectancy)\n",
    "print('Coefficients: \\n', regr1.coef_)\n",
    "print(regr1.score(input_data, life_expectancy))"
   ]
  },
  {
   "cell_type": "code",
   "execution_count": 14,
   "metadata": {
    "collapsed": false
   },
   "outputs": [
    {
     "data": {
      "text/plain": [
       "[<matplotlib.lines.Line2D at 0x1108c5b38>]"
      ]
     },
     "execution_count": 14,
     "metadata": {},
     "output_type": "execute_result"
    },
    {
     "data": {
      "image/png": "[encoded data removed]",
      "text/plain": [
       "<matplotlib.figure.Figure at 0x1108c5ba8>"
      ]
     },
     "metadata": {},
     "output_type": "display_data"
    }
   ],
   "source": [
    "plt.scatter(input_data, life_expectancy,  color='black')\n",
    "plt.plot(input_data, regr1.predict(input_data), color='blue', linewidth=3)"
   ]
  },
  {
   "cell_type": "code",
   "execution_count": 15,
   "metadata": {
    "collapsed": false
   },
   "outputs": [
    {
     "data": {
      "text/plain": [
       "array([ 70.89176421])"
      ]
     },
     "execution_count": 15,
     "metadata": {},
     "output_type": "execute_result"
    }
   ],
   "source": [
    "# 80% of relevant population in secondary education\n",
    "regr1.predict(80)"
   ]
  },
  {
   "cell_type": "code",
   "execution_count": 16,
   "metadata": {
    "collapsed": true
   },
   "outputs": [],
   "source": [
    "df = indicators.loc[:, ['Improved sanitation facilities (% of population with access)',\n",
    "                        'Improved water source (% of population with access)',\n",
    "                        'Life expectancy at birth, total (years)']]\n",
    "df.dropna(inplace=True)\n",
    "input_data = df[['Improved sanitation facilities (% of population with access)',\n",
    "                 'Improved water source (% of population with access)']]\n",
    "life_expectancy = df['Life expectancy at birth, total (years)']"
   ]
  },
  {
   "cell_type": "code",
   "execution_count": 17,
   "metadata": {
    "collapsed": false
   },
   "outputs": [
    {
     "name": "stdout",
     "output_type": "stream",
     "text": [
      "Coefficients: \n",
      " [ 0.19292499  0.13934044]\n",
      "0.707279596586\n"
     ]
    }
   ],
   "source": [
    "regr2 = linear_model.LinearRegression()\n",
    "fit = regr2.fit(input_data, life_expectancy)\n",
    "print('Coefficients: \\n', regr2.coef_)\n",
    "print(regr2.score(input_data, life_expectancy))"
   ]
  },
  {
   "cell_type": "code",
   "execution_count": 18,
   "metadata": {
    "collapsed": false
   },
   "outputs": [
    {
     "data": {
      "text/plain": [
       "<mpl_toolkits.mplot3d.art3d.Path3DCollection at 0x110a67518>"
      ]
     },
     "execution_count": 18,
     "metadata": {},
     "output_type": "execute_result"
    },
    {
     "data": {
      "image/png": "[encoded data removed]",
      "text/plain": [
       "<matplotlib.figure.Figure at 0x10ed351d0>"
      ]
     },
     "metadata": {},
     "output_type": "display_data"
    }
   ],
   "source": [
    "from mpl_toolkits.mplot3d import Axes3D\n",
    "fig = plt.figure()\n",
    "ax = fig.add_subplot(111, projection='3d')\n",
    "xx = input_data['Improved sanitation facilities (% of population with access)']\n",
    "yy = input_data['Improved water source (% of population with access)']\n",
    "zz = life_expectancy\n",
    "predict = regr2.predict(input_data)\n",
    "x_surf, y_surf = np.meshgrid(xx, yy)\n",
    "ax.plot_surface(x_surf, y_surf, predict, color=\"red\", alpha=0.1)\n",
    "ax.scatter(xx, yy, zz)"
   ]
  },
  {
   "cell_type": "code",
   "execution_count": 19,
   "metadata": {
    "collapsed": false
   },
   "outputs": [
    {
     "name": "stdout",
     "output_type": "stream",
     "text": [
      "[ 70.67127624]\n",
      "[ 71.63590118]\n",
      "[ 71.36797843]\n",
      "[ 71.50193981]\n"
     ]
    }
   ],
   "source": [
    "print(regr2.predict([80, 80]))\n",
    "print(regr2.predict([85, 80]))\n",
    "print(regr2.predict([80, 85]))\n",
    "print(regr2.predict([82.5, 82.5]))"
   ]
  },
  {
   "cell_type": "code",
   "execution_count": 20,
   "metadata": {
    "collapsed": false
   },
   "outputs": [
    {
     "data": {
      "text/plain": [
       "[<matplotlib.lines.Line2D at 0x110a0e908>]"
      ]
     },
     "execution_count": 20,
     "metadata": {},
     "output_type": "execute_result"
    },
    {
     "data": {
      "image/png": "[encoded data removed]",
      "text/plain": [
       "<matplotlib.figure.Figure at 0x110a0e940>"
      ]
     },
     "metadata": {},
     "output_type": "display_data"
    }
   ],
   "source": [
    "x1 = input_data['Improved sanitation facilities (% of population with access)']\n",
    "x2 = input_data['Improved water source (% of population with access)']\n",
    "yy = life_expectancy\n",
    "predict = regr2.predict(input_data)\n",
    "xx = x1 * x2\n",
    "plt.scatter(xx, yy,  color='black')\n",
    "plt.plot((min(xx), max(xx)), (min(predict), max(predict)), color='blue', linewidth=3)"
   ]
  },
  {
   "cell_type": "code",
   "execution_count": 21,
   "metadata": {
    "collapsed": true
   },
   "outputs": [],
   "source": [
    "df = indicators.loc[:, ['School enrollment, secondary (% gross)',\n",
    "                        'Improved sanitation facilities (% of population with access)',\n",
    "                        'Improved water source (% of population with access)',\n",
    "                        'Life expectancy at birth, total (years)']]\n",
    "df.dropna(inplace=True)\n",
    "input_data = df[['School enrollment, secondary (% gross)', \n",
    "                 'Improved sanitation facilities (% of population with access)',\n",
    "                 'Improved water source (% of population with access)']]\n",
    "life_expectancy = df['Life expectancy at birth, total (years)']"
   ]
  },
  {
   "cell_type": "code",
   "execution_count": 22,
   "metadata": {
    "collapsed": false
   },
   "outputs": [
    {
     "name": "stdout",
     "output_type": "stream",
     "text": [
      "0.757777197623\n"
     ]
    }
   ],
   "source": [
    "regr3 = linear_model.LinearRegression()\n",
    "fit = regr3.fit(input_data, life_expectancy)\n",
    "print(regr3.score(input_data, life_expectancy))"
   ]
  },
  {
   "cell_type": "code",
   "execution_count": 23,
   "metadata": {
    "collapsed": false
   },
   "outputs": [
    {
     "name": "stdout",
     "output_type": "stream",
     "text": [
      "0.757615236053\n"
     ]
    }
   ],
   "source": [
    "df = indicators.loc[:, ['School enrollment, secondary (% gross)',\n",
    "                        'Immunization, measles (% of children ages 12-23 months)',\n",
    "                        'Improved sanitation facilities (% of population with access)',\n",
    "                        'Improved water source (% of population with access)',\n",
    "                        'Life expectancy at birth, total (years)']]\n",
    "df.dropna(inplace=True)\n",
    "input_data = df[['School enrollment, secondary (% gross)', \n",
    "                 'Immunization, measles (% of children ages 12-23 months)',\n",
    "                 'Improved sanitation facilities (% of population with access)',\n",
    "                 'Improved water source (% of population with access)']]\n",
    "life_expectancy = df['Life expectancy at birth, total (years)']\n",
    "regr4 = linear_model.LinearRegression()\n",
    "fit = regr4.fit(input_data, life_expectancy)\n",
    "print(regr4.score(input_data, life_expectancy))"
   ]
  },
  {
   "cell_type": "markdown",
   "metadata": {},
   "source": [
    "## Automating picking the best features"
   ]
  },
  {
   "cell_type": "code",
   "execution_count": 33,
   "metadata": {
    "collapsed": false
   },
   "outputs": [],
   "source": [
    "import itertools\n",
    "dependent_vars = list(indicators.columns)\n",
    "dependent_vars.remove('Life expectancy at birth, total (years)')\n",
    "combos = list(itertools.combinations(dependent_vars, 2))"
   ]
  },
  {
   "cell_type": "code",
   "execution_count": 40,
   "metadata": {
    "collapsed": false
   },
   "outputs": [
    {
     "name": "stdout",
     "output_type": "stream",
     "text": [
      "(('Mortality rate, under-5 (per 1,000 live births)', 'Prevalence of HIV, total (% of population ages 15-49)'), 0.88106131742847671)\n",
      "[-0.19425187 -0.56086974] 77.5600703075\n"
     ]
    }
   ],
   "source": [
    "choices = []\n",
    "\n",
    "def regression_for(combo):\n",
    "    combo = list(combo)\n",
    "    df = indicators.loc[:, combo + ['Life expectancy at birth, total (years)']]\n",
    "    df.dropna(inplace=True)\n",
    "    input_data = df[combo]\n",
    "    life_expectancy = df['Life expectancy at birth, total (years)']\n",
    "    regr = linear_model.LinearRegression()\n",
    "    regr.fit(input_data, life_expectancy)\n",
    "    return regr, regr.score(input_data, life_expectancy)\n",
    "\n",
    "for combo in combos:\n",
    "    regr, score = regression_for(combo)\n",
    "    choices.append((combo, score))\n",
    "                   \n",
    "best = sorted(choices, key=lambda x: x[1])[-1]\n",
    "print(best)\n",
    "regr, score = regression_for(best[0])\n",
    "print(regr.coef_, regr.intercept_)"
   ]
  },
  {
   "cell_type": "code",
   "execution_count": null,
   "metadata": {
    "collapsed": true
   },
   "outputs": [],
   "source": []
  }
 ],
 "metadata": {
  "kernelspec": {
   "display_name": "Python 3",
   "language": "python",
   "name": "python3"
  },
  "language_info": {
   "codemirror_mode": {
    "name": "ipython",
    "version": 3
   },
   "file_extension": ".py",
   "mimetype": "text/x-python",
   "name": "python",
   "nbconvert_exporter": "python",
   "pygments_lexer": "ipython3",
   "version": "3.4.3"
  }
 },
 "nbformat": 4,
 "nbformat_minor": 0
}
