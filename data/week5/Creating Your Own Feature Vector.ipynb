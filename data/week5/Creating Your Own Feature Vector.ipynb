{
 "cells": [
  {
   "cell_type": "code",
   "execution_count": 11,
   "metadata": {
    "collapsed": true
   },
   "outputs": [],
   "source": [
    "import csv\n",
    "import re"
   ]
  },
  {
   "cell_type": "code",
   "execution_count": 12,
   "metadata": {
    "collapsed": false
   },
   "outputs": [],
   "source": [
    "sms_data = []\n",
    "sms_results = []\n",
    "\n",
    "with open(\"SMSSpamCollection\") as file:\n",
    "    reader = csv.reader(file, delimiter=\"\\t\")\n",
    "    for row in reader:\n",
    "        sms_data.append(row[1])\n",
    "        sms_results.append(True if row[0] == 'spam' else False)"
   ]
  },
  {
   "cell_type": "code",
   "execution_count": 13,
   "metadata": {
    "collapsed": false
   },
   "outputs": [
    {
     "data": {
      "text/plain": [
       "False"
      ]
     },
     "execution_count": 13,
     "metadata": {},
     "output_type": "execute_result"
    }
   ],
   "source": [
    "sms_results[0]"
   ]
  },
  {
   "cell_type": "code",
   "execution_count": 14,
   "metadata": {
    "collapsed": false
   },
   "outputs": [
    {
     "data": {
      "text/plain": [
       "'Go until jurong point, crazy.. Available only in bugis n great world la e buffet... Cine there got amore wat...'"
      ]
     },
     "execution_count": 14,
     "metadata": {},
     "output_type": "execute_result"
    }
   ],
   "source": [
    "sms_data[0]"
   ]
  },
  {
   "cell_type": "code",
   "execution_count": 19,
   "metadata": {
    "collapsed": false
   },
   "outputs": [
    {
     "name": "stdout",
     "output_type": "stream",
     "text": [
      "[1]\n",
      "[1]\n",
      "[2]\n",
      "[1]\n",
      "[1]\n",
      "[1]\n",
      "[1]\n",
      "[1]\n",
      "[6]\n",
      "[4]\n"
     ]
    }
   ],
   "source": [
    "def longest_run_of_capitol_letters_feature(text):\n",
    "    runs = sorted(re.findall(r\"[A-Z]+\", text), key=len)\n",
    "    longest = runs[-1]\n",
    "    return [len(longest)]\n",
    "\n",
    "for sms in sms_data[:10]:\n",
    "    print(longest_run_of_capitol_letters_feature(sms))\n"
   ]
  },
  {
   "cell_type": "code",
   "execution_count": 23,
   "metadata": {
    "collapsed": false
   },
   "outputs": [
    {
     "name": "stdout",
     "output_type": "stream",
     "text": [
      "[0.07207207207207207]\n",
      "[0.20689655172413793]\n",
      "[0.0064516129032258064]\n",
      "[0.12244897959183673]\n",
      "[0.0]\n",
      "[0.006802721088435374]\n",
      "[0.025974025974025976]\n",
      "[0.00625]\n",
      "[0.01910828025477707]\n",
      "[0.0]\n"
     ]
    }
   ],
   "source": [
    "def percent_periods_feature(text):\n",
    "    \"\"\"Return percentage of text that is periods compared to total text length.\"\"\"\n",
    "    periods = text.count(\".\")\n",
    "    return [periods / len(text)]\n",
    "    \n",
    "for sms in sms_data[:10]:\n",
    "    print(percent_periods_feature(sms))"
   ]
  },
  {
   "cell_type": "code",
   "execution_count": 24,
   "metadata": {
    "collapsed": false
   },
   "outputs": [
    {
     "name": "stdout",
     "output_type": "stream",
     "text": [
      "[1, 0.07207207207207207]\n",
      "[1, 0.20689655172413793]\n",
      "[2, 0.0064516129032258064]\n",
      "[1, 0.12244897959183673]\n",
      "[1, 0.0]\n",
      "[1, 0.006802721088435374]\n",
      "[1, 0.025974025974025976]\n",
      "[1, 0.00625]\n",
      "[6, 0.01910828025477707]\n",
      "[4, 0.0]\n"
     ]
    }
   ],
   "source": [
    "def feature_vector(text):\n",
    "    return longest_run_of_capitol_letters_feature(text) + percent_periods_feature(text)\n",
    "\n",
    "for sms in sms_data[:10]:\n",
    "    print(feature_vector(sms))"
   ]
  },
  {
   "cell_type": "code",
   "execution_count": 42,
   "metadata": {
    "collapsed": false
   },
   "outputs": [
    {
     "name": "stdout",
     "output_type": "stream",
     "text": [
      "[[ 1.          0.07207207]\n",
      " [ 1.          0.20689655]\n",
      " [ 2.          0.00645161]\n",
      " [ 1.          0.12244898]\n",
      " [ 1.          0.        ]\n",
      " [ 1.          0.00680272]\n",
      " [ 1.          0.02597403]\n",
      " [ 1.          0.00625   ]\n",
      " [ 6.          0.01910828]\n",
      " [ 4.          0.        ]]\n"
     ]
    }
   ],
   "source": [
    "import numpy as np\n",
    "\n",
    "class CustomFeaturizer:\n",
    "    def __init__(self, *featurizers):\n",
    "        self.featurizers = featurizers\n",
    "        \n",
    "    def fit(self, X, y=None):\n",
    "        \"\"\"All SciKit-Learn compatible transformers and classifiers have the\n",
    "        same interface. `fit` always returns the same object.\"\"\"\n",
    "        return self\n",
    "        \n",
    "    def transform(self, X):\n",
    "        \"\"\"Given a list of original data, return a list of feature vectors.\"\"\"\n",
    "        fvs = []\n",
    "        for datum in X:\n",
    "            fv = np.array([f(datum) for f in self.featurizers])\n",
    "            fvs.append(fv.reshape(1, -1)[0])\n",
    "        return np.array(fvs)\n",
    "    \n",
    "sms_featurizer = CustomFeaturizer(longest_run_of_capitol_letters_feature,\n",
    "                                  percent_periods_feature)\n",
    "\n",
    "print(sms_featurizer.transform(sms_data[:10]))"
   ]
  },
  {
   "cell_type": "code",
   "execution_count": null,
   "metadata": {
    "collapsed": true
   },
   "outputs": [],
   "source": []
  }
 ],
 "metadata": {
  "kernelspec": {
   "display_name": "Python 3",
   "language": "python",
   "name": "python3"
  },
  "language_info": {
   "codemirror_mode": {
    "name": "ipython",
    "version": 3
   },
   "file_extension": ".py",
   "mimetype": "text/x-python",
   "name": "python",
   "nbconvert_exporter": "python",
   "pygments_lexer": "ipython3",
   "version": "3.4.3"
  }
 },
 "nbformat": 4,
 "nbformat_minor": 0
}
