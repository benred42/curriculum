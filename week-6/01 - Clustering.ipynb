{
 "cells": [
  {
   "cell_type": "markdown",
   "metadata": {},
   "source": [
    "# Clustering\n",
    "\n",
    "Unlike regression and classification, _clustering_ is an unsupervised machine learning algorithm. The difference is in the input: supervised algorithms are given some data that has already been solved for use in training. An unsupervised algorithm has no initial training data.\n",
    "\n",
    "The point of clustering is to find groupings of data we might not have otherwise seen. The most common practical use is in lossy compression: for example, we can greatly shrink the size of data needed to carry voice communications by clustering similar sounds."
   ]
  },
  {
   "cell_type": "code",
   "execution_count": 16,
   "metadata": {
    "collapsed": false
   },
   "outputs": [],
   "source": [
    "import matplotlib.pyplot as plt\n",
    "import matplotlib\n",
    "import numpy as np\n",
    "import math\n",
    "\n",
    "from voronoi_polygons import polygons as voronoi_polygons\n",
    "\n",
    "np.set_printoptions(precision=4, suppress=True)"
   ]
  },
  {
   "cell_type": "code",
   "execution_count": 17,
   "metadata": {
    "collapsed": false
   },
   "outputs": [],
   "source": [
    "%matplotlib inline"
   ]
  },
  {
   "cell_type": "markdown",
   "metadata": {},
   "source": [
    "The Iris dataset is a famous dataset of sepal and petal widths and lengths of three species of irises. It's used a lot for testing classification and clustering algorithms.\n",
    "\n",
    "* https://en.wikipedia.org/wiki/Iris_flower_data_set\n",
    "* https://archive.ics.uci.edu/ml/datasets/Iris"
   ]
  },
  {
   "cell_type": "markdown",
   "metadata": {},
   "source": [
    "## K-Means Clustering\n",
    "\n",
    "_K-means_ is a commonly-used clustering algorithm. It follows a simple set of steps:\n",
    "\n",
    "1. Pick _k_ centroids, where _k_ is the number of clusters you want. The first time, pick these centroids randomly.\n",
    "2. For each centroid, find all the data points closest to it. These are your clusters.\n",
    "3. For each cluster, find the mean of all their points in space. Make these means your new centroids and start over.\n",
    "4. Repeat until the centroids stop moving.\n",
    "\n",
    "Below is the code we'll need to implement k-means clustering ourselves."
   ]
  },
  {
   "cell_type": "code",
   "execution_count": 18,
   "metadata": {
    "collapsed": false
   },
   "outputs": [],
   "source": [
    "def euclidean_distance(v1, v2):\n",
    "    \"\"\"Finds the difference between two equally-sized 1D NumPy arrays.\n",
    "    We will use this to measure the distance between points.\"\"\"\n",
    "    squares = (v1 - v2) ** 2\n",
    "    return squares.sum() ** 0.5"
   ]
  },
  {
   "cell_type": "code",
   "execution_count": 19,
   "metadata": {
    "collapsed": false
   },
   "outputs": [],
   "source": [
    "def generate_clusters(X, centroids):\n",
    "    \"\"\"Given a data set X and some centroids, cluster the data points around \n",
    "    the centroids.\"\"\"\n",
    "    clusters = [None] * len(centroids)\n",
    "    for x in X:\n",
    "        # Go through the centroids, measuring the distance from the data point\n",
    "        # to each centroid. Use the index of the closest centroid as the cluster\n",
    "        # number.\n",
    "        cluster = min([(idx, euclidean_distance(centroid, x)) \n",
    "                       for idx, centroid in enumerate(centroids)],\n",
    "                        key=lambda x: x[1])[0]\n",
    "        # We convert these to lists so that when we convert to a NumPy array\n",
    "        # we get a multi-dimensional array, not an array of arrays.\n",
    "        if clusters[cluster] is None:\n",
    "            clusters[cluster] = [x.tolist()]\n",
    "        else:\n",
    "            clusters[cluster].append(x.tolist())\n",
    "            \n",
    "    return np.array(clusters)"
   ]
  },
  {
   "cell_type": "code",
   "execution_count": 20,
   "metadata": {
    "collapsed": false
   },
   "outputs": [],
   "source": [
    "def reevaluate_centroids(clusters):\n",
    "    \"\"\"Given some clusters, find the mean of each cluster and return it as\n",
    "    a new centroid.\"\"\"\n",
    "    new_centroids = []\n",
    "    for k in range(len(clusters)):\n",
    "        new_centroids.append(np.mean(clusters[k], axis = 0))\n",
    "    return np.array(new_centroids)"
   ]
  },
  {
   "cell_type": "code",
   "execution_count": 21,
   "metadata": {
    "collapsed": false
   },
   "outputs": [],
   "source": [
    "def has_converged(centroids1, centroids2):\n",
    "    return (set([tuple(c.tolist()) for c in centroids1]) == \n",
    "            set([tuple(c.tolist()) for c in centroids2]))"
   ]
  },
  {
   "cell_type": "code",
   "execution_count": 22,
   "metadata": {
    "collapsed": false
   },
   "outputs": [],
   "source": [
    "def kmeans(X, K):\n",
    "    \"\"\"Implementation of K-Means clustering using NumPy and SciKit-Learn.\n",
    "    Assumes X is a 2-dimensional NumPy array.\"\"\"\n",
    "    \n",
    "    # Get K randomly selected initial centroids.\n",
    "    old_centroids = X[np.random.choice(X.shape[0], K, replace=False),:]\n",
    "    centroids = X[np.random.choice(X.shape[0], K, replace=False),:]\n",
    "    while not has_converged(centroids, old_centroids):\n",
    "        clusters = generate_clusters(X, centroids)\n",
    "        old_centroids = centroids\n",
    "        centroids = reevaluate_centroids(clusters)\n",
    "    return centroids, clusters"
   ]
  },
  {
   "cell_type": "code",
   "execution_count": 23,
   "metadata": {
    "collapsed": false
   },
   "outputs": [],
   "source": [
    "X = np.random.randn(50,2)"
   ]
  },
  {
   "cell_type": "code",
   "execution_count": 24,
   "metadata": {
    "collapsed": false
   },
   "outputs": [
    {
     "data": {
      "image/png": "[encoded data removed]",
      "text/plain": [
       "<matplotlib.figure.Figure at 0x105bcdc18>"
      ]
     },
     "metadata": {},
     "output_type": "display_data"
    }
   ],
   "source": [
    "colors = [\"#E2415F\", \"#7FAF1B\", \"#090129\"]\n",
    "markers = [\"v\", \"D\", \"s\"]\n",
    "plt.figure(figsize=(8, 6))\n",
    "\n",
    "centroids, clusters = kmeans(X, 3)\n",
    "\n",
    "axes = plt.subplot(1,1,1)\n",
    "\n",
    "for idx, cluster in enumerate(clusters):\n",
    "    cluster = np.array(cluster)\n",
    "    plt.scatter(cluster[:,0], cluster[:,1], \n",
    "                color=colors[idx], s=25, \n",
    "                marker='o')\n",
    "    \n",
    "plt.scatter(centroids[:, 0], centroids[:, 1],\n",
    "            color=\"b\", s=250, alpha=0.5, marker='o')\n",
    "    \n",
    "polys = voronoi_polygons(centroids)\n",
    "\n",
    "for poly in polys:\n",
    "    p = matplotlib.patches.Polygon(poly, facecolor=np.random.rand(3,1), alpha=0.1)\n",
    "    axes.add_patch(p)\n",
    "\n",
    "plt.show()"
   ]
  },
  {
   "cell_type": "markdown",
   "metadata": {},
   "source": [
    "Try running the above several times. Note that the centroids move between runs. Why is that?"
   ]
  },
  {
   "cell_type": "markdown",
   "metadata": {},
   "source": [
    "### Clustering Iris\n",
    "\n",
    "Now that we have K-means clustering working, let's try it out with the Iris data set."
   ]
  },
  {
   "cell_type": "code",
   "execution_count": 25,
   "metadata": {
    "collapsed": false
   },
   "outputs": [],
   "source": [
    "from sklearn.datasets import load_iris\n",
    "from sklearn import preprocessing\n",
    "\n",
    "iris = load_iris()\n",
    "iris_data = iris.data\n",
    "# In order for the 4-dimensional Iris data to display well in 2 dimensions, we need to scale it.\n",
    "iris_data = preprocessing.scale(iris.data)\n",
    "centroids, clusters = kmeans(iris_data, 3)"
   ]
  },
  {
   "cell_type": "code",
   "execution_count": 26,
   "metadata": {
    "collapsed": false
   },
   "outputs": [
    {
     "data": {
      "image/png": "[encoded data removed]",
      "text/plain": [
       "<matplotlib.figure.Figure at 0x105a32668>"
      ]
     },
     "metadata": {},
     "output_type": "display_data"
    },
    {
     "data": {
      "text/plain": [
       "[32, 96, 22]"
      ]
     },
     "execution_count": 26,
     "metadata": {},
     "output_type": "execute_result"
    }
   ],
   "source": [
    "from sklearn.decomposition import PCA as PCA\n",
    "pca = PCA(n_components=2).fit(iris_data)\n",
    "centroids_2d = pca.transform(centroids)\n",
    "colors = [\"#E2415F\", \"#7FAF1B\", \"#090129\"]\n",
    "markers = [\"v\", \"D\", \"s\"]\n",
    "\n",
    "plt.figure(figsize=(8, 6))\n",
    "axes = plt.subplot(1,1,1)\n",
    "\n",
    "for i, cluster in enumerate(clusters):\n",
    "    cluster = np.array(cluster)\n",
    "    cluster_2d = pca.transform(cluster)\n",
    "    plt.scatter(cluster_2d[:,0], cluster_2d[:,1], color=colors[i])\n",
    "\n",
    "plt.scatter(centroids_2d[:, 0], centroids_2d[:, 1], color='g', alpha='0.5', marker='o', s=250)\n",
    "\n",
    "polys = voronoi_polygons(centroids_2d)\n",
    "\n",
    "for poly in polys:\n",
    "    p = matplotlib.patches.Polygon(poly, facecolor=np.random.rand(3,1), alpha=0.1)\n",
    "    axes.add_patch(p)\n",
    "    \n",
    "plt.title(\"Iris dataset with three clusters\")\n",
    "plt.show()\n",
    "\n",
    "[len(cluster) for cluster in clusters]"
   ]
  },
  {
   "cell_type": "markdown",
   "metadata": {},
   "source": [
    "Our algorithm works pretty well! You can see that it's broken the Iris data set into three clusters of 56, 50, and 44 data points. The actual data should be 50/50/50, but you can probably see in the above chart that two of the groups are hard to get perfect.\n",
    "\n",
    "Let's try the Scikit-Learn algorithm."
   ]
  },
  {
   "cell_type": "code",
   "execution_count": 27,
   "metadata": {
    "collapsed": false
   },
   "outputs": [
    {
     "data": {
      "text/plain": [
       "KMeans(copy_x=True, init='k-means++', max_iter=300, n_clusters=3, n_init=10,\n",
       "    n_jobs=1, precompute_distances='auto', random_state=None, tol=0.0001,\n",
       "    verbose=0)"
      ]
     },
     "execution_count": 27,
     "metadata": {},
     "output_type": "execute_result"
    }
   ],
   "source": [
    "from sklearn.cluster import KMeans\n",
    "\n",
    "kmeans = KMeans(3)\n",
    "iris_data = preprocessing.scale(iris.data)\n",
    "kmeans.fit(iris_data)"
   ]
  },
  {
   "cell_type": "code",
   "execution_count": 28,
   "metadata": {
    "collapsed": false
   },
   "outputs": [
    {
     "data": {
      "text/plain": [
       "array([[1, 1, 1, 1, 1, 1, 1, 1, 1, 1, 1, 1, 1, 1, 1, 1, 1, 1, 1, 1, 1, 1,\n",
       "        1, 1, 1, 1, 1, 1, 1, 1, 1, 1, 1, 1, 1, 1, 1, 1, 1, 1, 1, 1, 1, 1,\n",
       "        1, 1, 1, 1, 1, 1],\n",
       "       [2, 2, 2, 0, 0, 0, 2, 0, 2, 0, 0, 0, 0, 0, 0, 2, 0, 0, 0, 0, 2, 0,\n",
       "        0, 0, 0, 2, 2, 2, 0, 0, 0, 0, 0, 0, 0, 2, 2, 0, 0, 0, 0, 0, 0, 0,\n",
       "        0, 0, 0, 0, 0, 0],\n",
       "       [2, 0, 2, 2, 2, 2, 0, 2, 2, 2, 2, 2, 2, 0, 0, 2, 2, 2, 2, 0, 2, 0,\n",
       "        2, 0, 2, 2, 0, 2, 2, 2, 2, 2, 2, 0, 0, 2, 2, 2, 0, 2, 2, 2, 0, 2,\n",
       "        2, 2, 0, 2, 2, 0]], dtype=int32)"
      ]
     },
     "execution_count": 28,
     "metadata": {},
     "output_type": "execute_result"
    }
   ],
   "source": [
    "clusters = kmeans.predict(iris_data)\n",
    "clusters.reshape((-1,50))"
   ]
  },
  {
   "cell_type": "code",
   "execution_count": 29,
   "metadata": {
    "collapsed": false
   },
   "outputs": [
    {
     "name": "stdout",
     "output_type": "stream",
     "text": [
      "             precision    recall  f1-score   support\n",
      "\n",
      "          0       0.00      0.00      0.00        50\n",
      "          1       0.00      0.00      0.00        50\n",
      "          2       0.75      0.72      0.73        50\n",
      "\n",
      "avg / total       0.25      0.24      0.24       150\n",
      "\n"
     ]
    },
    {
     "data": {
      "text/plain": [
       "array([[ 0, 50,  0],\n",
       "       [38,  0, 12],\n",
       "       [14,  0, 36]])"
      ]
     },
     "execution_count": 29,
     "metadata": {},
     "output_type": "execute_result"
    }
   ],
   "source": [
    "from sklearn import metrics\n",
    "t = iris.target.tolist()\n",
    "# t = t[50:100] + t[:50] + t[100:]\n",
    "print(metrics.classification_report(t, clusters))\n",
    "metrics.confusion_matrix(t, clusters)"
   ]
  },
  {
   "cell_type": "markdown",
   "metadata": {},
   "source": [
    "These aren't perfect predictions either. They're split into 50/50/50, but some of the guesses are wrong compared to the actual classifications. Using the Voronoi diagram below, you can see where we split vs the actual classification."
   ]
  },
  {
   "cell_type": "code",
   "execution_count": 30,
   "metadata": {
    "collapsed": false
   },
   "outputs": [
    {
     "data": {
      "image/png": "[encoded data removed]",
      "text/plain": [
       "<matplotlib.figure.Figure at 0x105a38630>"
      ]
     },
     "metadata": {},
     "output_type": "display_data"
    }
   ],
   "source": [
    "from sklearn.decomposition import PCA\n",
    "pca = PCA(n_components=2).fit(iris_data)\n",
    "pca_2d = pca.transform(iris_data)\n",
    "\n",
    "cluster_2d = pca.transform(kmeans.cluster_centers_)\n",
    "colors = [\"#E2415F\", \"#7FAF1B\", \"#090129\"]\n",
    "markers = [\"v\", \"D\", \"s\"]\n",
    "\n",
    "plt.figure(figsize=(8, 6))\n",
    "axes = plt.subplot(1,1,1)\n",
    "\n",
    "for i in range(pca_2d.shape[0]):\n",
    "    c = clusters[i]\n",
    "    color = colors[iris.target[i]]\n",
    "    plt.scatter(pca_2d[i,0], pca_2d[i, 1], color=color)\n",
    "    \n",
    "for i in range(cluster_2d.shape[0]):\n",
    "    plt.scatter(cluster_2d[i, 0], cluster_2d[i, 1], color='g', alpha='0.5', s=250, marker='o')\n",
    "\n",
    "plt.title(\"Iris dataset with three clusters\")\n",
    "\n",
    "polys = voronoi_polygons(centroids_2d)\n",
    "\n",
    "for poly in polys:\n",
    "    p = matplotlib.patches.Polygon(poly, facecolor=np.random.rand(3,1), alpha=0.1)\n",
    "    axes.add_patch(p)\n",
    "    \n",
    "plt.show()\n",
    "        "
   ]
  },
  {
   "cell_type": "markdown",
   "metadata": {},
   "source": [
    "## Exercise\n",
    "\n",
    "Reduce image to 16 colors using clustering."
   ]
  },
  {
   "cell_type": "code",
   "execution_count": 35,
   "metadata": {
    "collapsed": false
   },
   "outputs": [
    {
     "data": {
      "image/jpeg": "[encoded data removed]",
      "text/plain": [
       "<IPython.core.display.Image object>"
      ]
     },
     "execution_count": 35,
     "metadata": {},
     "output_type": "execute_result"
    }
   ],
   "source": [
    "import matplotlib.pyplot as plt\n",
    "import numpy as np\n",
    "from sklearn.cluster import KMeans\n",
    "from PIL import Image\n",
    "from IPython.display import Image as IPythonImage\n",
    "\n",
    "im = Image.open(\"bird_small.jpg\")\n",
    "IPythonImage('bird_small_resample.jpg')"
   ]
  },
  {
   "cell_type": "code",
   "execution_count": 33,
   "metadata": {
    "collapsed": false
   },
   "outputs": [
    {
     "name": "stdout",
     "output_type": "stream",
     "text": [
      "[[[219 180 103]\n",
      "  [230 185 117]\n",
      "  [225 186 109]]\n",
      "\n",
      " [[232 192 120]\n",
      "  [224 191 120]\n",
      "  [226 191 123]]\n",
      "\n",
      " [[228 191 123]\n",
      "  [228 191 120]\n",
      "  [220 185 119]]]\n"
     ]
    }
   ],
   "source": [
    "print(np.asarray(im)[:3,:3])"
   ]
  },
  {
   "cell_type": "code",
   "execution_count": 34,
   "metadata": {
    "collapsed": false
   },
   "outputs": [
    {
     "data": {
      "image/jpeg": "[encoded data removed]",
      "text/plain": [
       "<IPython.core.display.Image object>"
      ]
     },
     "execution_count": 34,
     "metadata": {},
     "output_type": "execute_result"
    }
   ],
   "source": [
    "import scipy\n",
    "scipy.misc.imsave('bird_small_resample.jpg', im)\n",
    "IPythonImage('bird_small_resample.jpg')"
   ]
  }
 ],
 "metadata": {
  "kernelspec": {
   "display_name": "Python 3",
   "language": "python",
   "name": "python3"
  },
  "language_info": {
   "codemirror_mode": {
    "name": "ipython",
    "version": 3
   },
   "file_extension": ".py",
   "mimetype": "text/x-python",
   "name": "python",
   "nbconvert_exporter": "python",
   "pygments_lexer": "ipython3",
   "version": "3.4.3"
  }
 },
 "nbformat": 4,
 "nbformat_minor": 0
}
